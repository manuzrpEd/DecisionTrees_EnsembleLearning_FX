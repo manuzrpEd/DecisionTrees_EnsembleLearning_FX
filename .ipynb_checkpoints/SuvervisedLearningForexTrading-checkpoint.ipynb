{
 "cells": [
  {
   "cell_type": "markdown",
   "metadata": {
    "id": "DBmCfnzjEXYJ"
   },
   "source": [
    "# 0. Introduction\n",
    "\n",
    "En este notebook se va a comparar el rendimiento medido en términos de tiempo de entrenamiento y precisión obtenida fuera de muestra de diferentes modelos supervisados."
   ]
  },
  {
   "cell_type": "code",
   "execution_count": 72,
   "metadata": {
    "scrolled": true
   },
   "outputs": [
    {
     "name": "stdout",
     "output_type": "stream",
     "text": [
      "Defaulting to user installation because normal site-packages is not writeable\n",
      "Requirement already satisfied: xgboost in c:\\users\\manuz\\appdata\\roaming\\python\\python39\\site-packages (1.5.0)\n",
      "Requirement already satisfied: sklearn in c:\\users\\manuz\\appdata\\roaming\\python\\python39\\site-packages (0.0)\n",
      "Requirement already satisfied: pandas in c:\\programdata\\anaconda3\\lib\\site-packages (1.4.2)\n",
      "Requirement already satisfied: numpy in c:\\users\\manuz\\appdata\\roaming\\python\\python39\\site-packages (1.21.0)\n",
      "Requirement already satisfied: seaborn in c:\\programdata\\anaconda3\\lib\\site-packages (0.11.2)\n",
      "Requirement already satisfied: scipy in c:\\programdata\\anaconda3\\lib\\site-packages (1.7.3)\n",
      "Requirement already satisfied: matplotlib in c:\\programdata\\anaconda3\\lib\\site-packages (3.5.1)\n",
      "Requirement already satisfied: yfinance in c:\\users\\manuz\\appdata\\roaming\\python\\python39\\site-packages (0.1.74)\n",
      "Requirement already satisfied: pandas_ta in c:\\programdata\\anaconda3\\lib\\site-packages (0.3.14b0)\n",
      "Requirement already satisfied: scikit-learn in c:\\programdata\\anaconda3\\lib\\site-packages (from sklearn) (1.0.2)\n",
      "Requirement already satisfied: python-dateutil>=2.8.1 in c:\\programdata\\anaconda3\\lib\\site-packages (from pandas) (2.8.2)\n",
      "Requirement already satisfied: pytz>=2020.1 in c:\\programdata\\anaconda3\\lib\\site-packages (from pandas) (2021.3)\n",
      "Requirement already satisfied: kiwisolver>=1.0.1 in c:\\programdata\\anaconda3\\lib\\site-packages (from matplotlib) (1.3.2)\n",
      "Requirement already satisfied: pyparsing>=2.2.1 in c:\\programdata\\anaconda3\\lib\\site-packages (from matplotlib) (3.0.4)\n",
      "Requirement already satisfied: cycler>=0.10 in c:\\programdata\\anaconda3\\lib\\site-packages (from matplotlib) (0.11.0)\n",
      "Requirement already satisfied: fonttools>=4.22.0 in c:\\programdata\\anaconda3\\lib\\site-packages (from matplotlib) (4.25.0)\n",
      "Requirement already satisfied: pillow>=6.2.0 in c:\\programdata\\anaconda3\\lib\\site-packages (from matplotlib) (9.0.1)\n",
      "Requirement already satisfied: packaging>=20.0 in c:\\programdata\\anaconda3\\lib\\site-packages (from matplotlib) (21.3)\n",
      "Requirement already satisfied: requests>=2.26 in c:\\programdata\\anaconda3\\lib\\site-packages (from yfinance) (2.27.1)\n",
      "Requirement already satisfied: lxml>=4.5.1 in c:\\programdata\\anaconda3\\lib\\site-packages (from yfinance) (4.8.0)\n",
      "Requirement already satisfied: multitasking>=0.0.7 in c:\\users\\manuz\\appdata\\roaming\\python\\python39\\site-packages (from yfinance) (0.0.11)\n",
      "Requirement already satisfied: six>=1.5 in c:\\programdata\\anaconda3\\lib\\site-packages (from python-dateutil>=2.8.1->pandas) (1.16.0)\n",
      "Requirement already satisfied: certifi>=2017.4.17 in c:\\programdata\\anaconda3\\lib\\site-packages (from requests>=2.26->yfinance) (2021.10.8)\n",
      "Requirement already satisfied: idna<4,>=2.5 in c:\\programdata\\anaconda3\\lib\\site-packages (from requests>=2.26->yfinance) (3.3)\n",
      "Requirement already satisfied: urllib3<1.27,>=1.21.1 in c:\\programdata\\anaconda3\\lib\\site-packages (from requests>=2.26->yfinance) (1.26.9)\n",
      "Requirement already satisfied: charset-normalizer~=2.0.0 in c:\\programdata\\anaconda3\\lib\\site-packages (from requests>=2.26->yfinance) (2.0.4)\n",
      "Requirement already satisfied: joblib>=0.11 in c:\\programdata\\anaconda3\\lib\\site-packages (from scikit-learn->sklearn) (1.1.0)\n",
      "Requirement already satisfied: threadpoolctl>=2.0.0 in c:\\programdata\\anaconda3\\lib\\site-packages (from scikit-learn->sklearn) (2.2.0)\n"
     ]
    }
   ],
   "source": [
    "# If you'd like to install packages that are not installed by default, uncomment the last two lines of this cell and replace  with a list of your packages.\n",
    "# This will ensure your notebook has all the dependencies and works everywhere\n",
    "import sys\n",
    "!{sys.executable} -m pip install xgboost sklearn pandas numpy seaborn scipy matplotlib yfinance pandas_ta "
   ]
  },
  {
   "cell_type": "code",
   "execution_count": 73,
   "metadata": {
    "colab": {
     "base_uri": "https://localhost:8080/"
    },
    "id": "hd1GUe6mESkP",
    "outputId": "dfda40a9-5c96-4b17-8167-349efe55912a",
    "scrolled": true
   },
   "outputs": [],
   "source": [
    "# import libraries\n",
    "import timeit\n",
    "#\n",
    "import datetime as dt\n",
    "import matplotlib.pyplot as plt\n",
    "import numpy as np\n",
    "import pandas as pd\n",
    "import pandas_ta as ta\n",
    "import yfinance as yf\n",
    "#\n",
    "from datetime import datetime\n",
    "from sklearn import svm\n",
    "from sklearn.cluster import KMeans\n",
    "from sklearn.ensemble import AdaBoostClassifier , GradientBoostingClassifier, RandomForestClassifier\n",
    "from sklearn.metrics import accuracy_score\n",
    "from sklearn.model_selection import cross_val_score, train_test_split\n",
    "from sklearn.naive_bayes import GaussianNB, BernoulliNB\n",
    "from sklearn.neighbors import KNeighborsClassifier\n",
    "from sklearn.preprocessing import LabelEncoder, StandardScaler\n",
    "from sklearn.tree import DecisionTreeClassifier \n",
    "from xgboost import XGBClassifier"
   ]
  },
  {
   "cell_type": "code",
   "execution_count": 74,
   "metadata": {},
   "outputs": [
    {
     "data": {
      "application/javascript": [
       "IPython.OutputArea.prototype._should_scroll = function(lines) {\n",
       "    return false;\n",
       "}\n"
      ],
      "text/plain": [
       "<IPython.core.display.Javascript object>"
      ]
     },
     "metadata": {},
     "output_type": "display_data"
    }
   ],
   "source": [
    "%%javascript\n",
    "IPython.OutputArea.prototype._should_scroll = function(lines) {\n",
    "    return false;\n",
    "}"
   ]
  },
  {
   "cell_type": "markdown",
   "metadata": {
    "id": "511yq6uAc29s"
   },
   "source": [
    "# 1. Dataset construction\n",
    "\n",
    "To keep things simple, we use 6 Technical Indicators (with multiple parameters) and construct the target label as a 1-day return (Up or Down)."
   ]
  },
  {
   "cell_type": "code",
   "execution_count": 75,
   "metadata": {
    "id": "X0VzsQvdYhjF"
   },
   "outputs": [],
   "source": [
    "#Function to generate the dataset\n",
    "def dataset(ticker, days):\n",
    "    # Define time to download data\n",
    "    today = datetime.today()\n",
    "    initial = today - dt.timedelta(days=days)\n",
    "    today = today.strftime('%Y-%m-%d')\n",
    "    initial = initial.strftime('%Y-%m-%d')\n",
    "    #Download data with YFINANCE\n",
    "    data = yf.download(ticker, start=initial, end=today, progress=False)\n",
    "    # list with parameter values to use with the Technical Indcators:\n",
    "    periods = range(14,50)\n",
    "    # dataframe creation with the Technical Indicators\n",
    "    df = pd.DataFrame(data[['High', 'Low', 'Close']])\n",
    "    for n in periods:\n",
    "        #CCI - Commodity Channel Index\n",
    "        df.ta.cci(length=n, append=True)\n",
    "        #RSI - Relative Strength Index\n",
    "        df.ta.rsi(length=n, append=True)\n",
    "        #STOCH - Stochastic\n",
    "        df.ta.stoch(k=n, append=True)\n",
    "        #WILLR - Williams' %R\n",
    "        df.ta.willr(length=n, append=True)\n",
    "        #ADX\n",
    "        df.ta.adx(length=n, append=True)\n",
    "        #MACD - Moving Average Convergence/Divergence\n",
    "        df.ta.macd(slow=n, append=True)\n",
    "    df.index = data.index\n",
    "    # 1-day return\n",
    "    df[\"Return\"] = df[\"Close\"].pct_change().shift(-1)\n",
    "    # Target variable label\n",
    "    df[\"Label\"] = np.where(df[\"Return\"]>0,\"UP\",\"DOWN\")\n",
    "    # drop nan values\n",
    "    df = df.dropna()\n",
    "    df = df.drop(columns=['High', 'Low'])\n",
    "    return df"
   ]
  },
  {
   "cell_type": "markdown",
   "metadata": {
    "id": "EjTbwQ2IdyKR"
   },
   "source": [
    "# 2. Out-of-sample (OOS) & In-sample (IS) datasets\n",
    "\n",
    "We assume that 1 year corresponds with 250 observations.\n",
    "\n",
    "We keep the last year as an out of sample period (OOS) and we define multiple in sample periods (IS).\n",
    "\n",
    "We use EURUSD as an instrument, which suffer less from a bullish bias like the stock market."
   ]
  },
  {
   "cell_type": "code",
   "execution_count": 76,
   "metadata": {
    "colab": {
     "base_uri": "https://localhost:8080/",
     "height": 519
    },
    "id": "vScWABppvalu",
    "outputId": "c2bd044b-83af-4484-91dd-0b0ea8a47150",
    "scrolled": false
   },
   "outputs": [
    {
     "data": {
      "text/html": [
       "<div>\n",
       "<style scoped>\n",
       "    .dataframe tbody tr th:only-of-type {\n",
       "        vertical-align: middle;\n",
       "    }\n",
       "\n",
       "    .dataframe tbody tr th {\n",
       "        vertical-align: top;\n",
       "    }\n",
       "\n",
       "    .dataframe thead th {\n",
       "        text-align: right;\n",
       "    }\n",
       "</style>\n",
       "<table border=\"1\" class=\"dataframe\">\n",
       "  <thead>\n",
       "    <tr style=\"text-align: right;\">\n",
       "      <th></th>\n",
       "      <th>Close</th>\n",
       "      <th>CCI_14_0.015</th>\n",
       "      <th>RSI_14</th>\n",
       "      <th>STOCHk_14_3_3</th>\n",
       "      <th>STOCHd_14_3_3</th>\n",
       "      <th>WILLR_14</th>\n",
       "      <th>ADX_14</th>\n",
       "      <th>DMP_14</th>\n",
       "      <th>DMN_14</th>\n",
       "      <th>MACD_12_14_9</th>\n",
       "      <th>...</th>\n",
       "      <th>STOCHd_49_3_3</th>\n",
       "      <th>WILLR_49</th>\n",
       "      <th>ADX_49</th>\n",
       "      <th>DMP_49</th>\n",
       "      <th>DMN_49</th>\n",
       "      <th>MACD_12_49_9</th>\n",
       "      <th>MACDh_12_49_9</th>\n",
       "      <th>MACDs_12_49_9</th>\n",
       "      <th>Return</th>\n",
       "      <th>Label</th>\n",
       "    </tr>\n",
       "    <tr>\n",
       "      <th>Date</th>\n",
       "      <th></th>\n",
       "      <th></th>\n",
       "      <th></th>\n",
       "      <th></th>\n",
       "      <th></th>\n",
       "      <th></th>\n",
       "      <th></th>\n",
       "      <th></th>\n",
       "      <th></th>\n",
       "      <th></th>\n",
       "      <th></th>\n",
       "      <th></th>\n",
       "      <th></th>\n",
       "      <th></th>\n",
       "      <th></th>\n",
       "      <th></th>\n",
       "      <th></th>\n",
       "      <th></th>\n",
       "      <th></th>\n",
       "      <th></th>\n",
       "      <th></th>\n",
       "    </tr>\n",
       "  </thead>\n",
       "  <tbody>\n",
       "    <tr>\n",
       "      <th>2012-04-27</th>\n",
       "      <td>1.319087</td>\n",
       "      <td>98.478489</td>\n",
       "      <td>51.038945</td>\n",
       "      <td>81.712149</td>\n",
       "      <td>80.730070</td>\n",
       "      <td>-28.649670</td>\n",
       "      <td>19.276641</td>\n",
       "      <td>17.866089</td>\n",
       "      <td>21.199062</td>\n",
       "      <td>0.000062</td>\n",
       "      <td>...</td>\n",
       "      <td>41.295740</td>\n",
       "      <td>-60.355674</td>\n",
       "      <td>49.622792</td>\n",
       "      <td>15.343039</td>\n",
       "      <td>36.281616</td>\n",
       "      <td>0.000703</td>\n",
       "      <td>0.000773</td>\n",
       "      <td>-0.000071</td>\n",
       "      <td>0.003840</td>\n",
       "      <td>UP</td>\n",
       "    </tr>\n",
       "    <tr>\n",
       "      <th>2012-04-30</th>\n",
       "      <td>1.324152</td>\n",
       "      <td>127.422385</td>\n",
       "      <td>54.601184</td>\n",
       "      <td>83.716661</td>\n",
       "      <td>82.018227</td>\n",
       "      <td>-10.017628</td>\n",
       "      <td>18.507741</td>\n",
       "      <td>16.972117</td>\n",
       "      <td>20.138317</td>\n",
       "      <td>0.000193</td>\n",
       "      <td>...</td>\n",
       "      <td>43.336723</td>\n",
       "      <td>-50.003167</td>\n",
       "      <td>49.335275</td>\n",
       "      <td>15.165505</td>\n",
       "      <td>35.861803</td>\n",
       "      <td>0.001449</td>\n",
       "      <td>0.001216</td>\n",
       "      <td>0.000233</td>\n",
       "      <td>-0.000132</td>\n",
       "      <td>DOWN</td>\n",
       "    </tr>\n",
       "    <tr>\n",
       "      <th>2012-05-01</th>\n",
       "      <td>1.323977</td>\n",
       "      <td>115.498837</td>\n",
       "      <td>54.453574</td>\n",
       "      <td>82.281899</td>\n",
       "      <td>82.570236</td>\n",
       "      <td>-14.487005</td>\n",
       "      <td>17.553797</td>\n",
       "      <td>17.214907</td>\n",
       "      <td>19.094008</td>\n",
       "      <td>0.000282</td>\n",
       "      <td>...</td>\n",
       "      <td>45.116149</td>\n",
       "      <td>-50.361327</td>\n",
       "      <td>49.037676</td>\n",
       "      <td>15.242374</td>\n",
       "      <td>35.436954</td>\n",
       "      <td>0.002027</td>\n",
       "      <td>0.001435</td>\n",
       "      <td>0.000592</td>\n",
       "      <td>0.000000</td>\n",
       "      <td>DOWN</td>\n",
       "    </tr>\n",
       "    <tr>\n",
       "      <th>2012-05-02</th>\n",
       "      <td>1.323977</td>\n",
       "      <td>50.088132</td>\n",
       "      <td>54.453574</td>\n",
       "      <td>87.002787</td>\n",
       "      <td>84.333783</td>\n",
       "      <td>-14.487005</td>\n",
       "      <td>17.581050</td>\n",
       "      <td>15.894581</td>\n",
       "      <td>22.841856</td>\n",
       "      <td>0.000341</td>\n",
       "      <td>...</td>\n",
       "      <td>47.377939</td>\n",
       "      <td>-50.361327</td>\n",
       "      <td>48.796498</td>\n",
       "      <td>14.973029</td>\n",
       "      <td>36.011659</td>\n",
       "      <td>0.002484</td>\n",
       "      <td>0.001514</td>\n",
       "      <td>0.000970</td>\n",
       "      <td>-0.006968</td>\n",
       "      <td>DOWN</td>\n",
       "    </tr>\n",
       "    <tr>\n",
       "      <th>2012-05-03</th>\n",
       "      <td>1.314752</td>\n",
       "      <td>-42.210902</td>\n",
       "      <td>46.738667</td>\n",
       "      <td>74.685202</td>\n",
       "      <td>81.323296</td>\n",
       "      <td>-46.970384</td>\n",
       "      <td>17.932568</td>\n",
       "      <td>14.397787</td>\n",
       "      <td>22.755423</td>\n",
       "      <td>0.000189</td>\n",
       "      <td>...</td>\n",
       "      <td>46.512672</td>\n",
       "      <td>-69.217312</td>\n",
       "      <td>48.582694</td>\n",
       "      <td>14.640618</td>\n",
       "      <td>35.698904</td>\n",
       "      <td>0.001789</td>\n",
       "      <td>0.000655</td>\n",
       "      <td>0.001134</td>\n",
       "      <td>0.000658</td>\n",
       "      <td>UP</td>\n",
       "    </tr>\n",
       "    <tr>\n",
       "      <th>...</th>\n",
       "      <td>...</td>\n",
       "      <td>...</td>\n",
       "      <td>...</td>\n",
       "      <td>...</td>\n",
       "      <td>...</td>\n",
       "      <td>...</td>\n",
       "      <td>...</td>\n",
       "      <td>...</td>\n",
       "      <td>...</td>\n",
       "      <td>...</td>\n",
       "      <td>...</td>\n",
       "      <td>...</td>\n",
       "      <td>...</td>\n",
       "      <td>...</td>\n",
       "      <td>...</td>\n",
       "      <td>...</td>\n",
       "      <td>...</td>\n",
       "      <td>...</td>\n",
       "      <td>...</td>\n",
       "      <td>...</td>\n",
       "      <td>...</td>\n",
       "    </tr>\n",
       "    <tr>\n",
       "      <th>2022-11-18</th>\n",
       "      <td>1.036173</td>\n",
       "      <td>85.819574</td>\n",
       "      <td>67.410973</td>\n",
       "      <td>86.033421</td>\n",
       "      <td>85.577773</td>\n",
       "      <td>-15.284101</td>\n",
       "      <td>25.304350</td>\n",
       "      <td>26.385322</td>\n",
       "      <td>9.847386</td>\n",
       "      <td>0.002756</td>\n",
       "      <td>...</td>\n",
       "      <td>88.536146</td>\n",
       "      <td>-12.161970</td>\n",
       "      <td>14.541093</td>\n",
       "      <td>20.520709</td>\n",
       "      <td>15.585239</td>\n",
       "      <td>0.017970</td>\n",
       "      <td>0.008588</td>\n",
       "      <td>0.009382</td>\n",
       "      <td>-0.002975</td>\n",
       "      <td>DOWN</td>\n",
       "    </tr>\n",
       "    <tr>\n",
       "      <th>2022-11-21</th>\n",
       "      <td>1.033090</td>\n",
       "      <td>54.709338</td>\n",
       "      <td>65.119551</td>\n",
       "      <td>84.825723</td>\n",
       "      <td>84.997108</td>\n",
       "      <td>-19.426472</td>\n",
       "      <td>25.407215</td>\n",
       "      <td>24.611691</td>\n",
       "      <td>14.225020</td>\n",
       "      <td>0.002673</td>\n",
       "      <td>...</td>\n",
       "      <td>88.061795</td>\n",
       "      <td>-15.458166</td>\n",
       "      <td>14.424605</td>\n",
       "      <td>20.090752</td>\n",
       "      <td>16.829510</td>\n",
       "      <td>0.018830</td>\n",
       "      <td>0.007558</td>\n",
       "      <td>0.011272</td>\n",
       "      <td>-0.008248</td>\n",
       "      <td>DOWN</td>\n",
       "    </tr>\n",
       "    <tr>\n",
       "      <th>2022-11-22</th>\n",
       "      <td>1.024569</td>\n",
       "      <td>35.254031</td>\n",
       "      <td>59.136547</td>\n",
       "      <td>78.138112</td>\n",
       "      <td>82.999085</td>\n",
       "      <td>-30.875092</td>\n",
       "      <td>25.502733</td>\n",
       "      <td>23.506028</td>\n",
       "      <td>13.585971</td>\n",
       "      <td>0.002382</td>\n",
       "      <td>...</td>\n",
       "      <td>86.471915</td>\n",
       "      <td>-24.568141</td>\n",
       "      <td>14.310495</td>\n",
       "      <td>19.815362</td>\n",
       "      <td>16.598823</td>\n",
       "      <td>0.018442</td>\n",
       "      <td>0.005737</td>\n",
       "      <td>0.012706</td>\n",
       "      <td>0.006383</td>\n",
       "      <td>UP</td>\n",
       "    </tr>\n",
       "    <tr>\n",
       "      <th>2022-11-23</th>\n",
       "      <td>1.031109</td>\n",
       "      <td>54.579860</td>\n",
       "      <td>62.020620</td>\n",
       "      <td>75.695111</td>\n",
       "      <td>79.552982</td>\n",
       "      <td>-22.613104</td>\n",
       "      <td>26.221633</td>\n",
       "      <td>26.581242</td>\n",
       "      <td>12.633576</td>\n",
       "      <td>0.002255</td>\n",
       "      <td>...</td>\n",
       "      <td>83.776138</td>\n",
       "      <td>-17.576438</td>\n",
       "      <td>14.270861</td>\n",
       "      <td>20.830194</td>\n",
       "      <td>16.244630</td>\n",
       "      <td>0.018758</td>\n",
       "      <td>0.004842</td>\n",
       "      <td>0.013916</td>\n",
       "      <td>0.010198</td>\n",
       "      <td>UP</td>\n",
       "    </tr>\n",
       "    <tr>\n",
       "      <th>2022-11-24</th>\n",
       "      <td>1.041623</td>\n",
       "      <td>88.972401</td>\n",
       "      <td>66.156665</td>\n",
       "      <td>78.618725</td>\n",
       "      <td>77.483982</td>\n",
       "      <td>-10.655630</td>\n",
       "      <td>27.282370</td>\n",
       "      <td>28.110196</td>\n",
       "      <td>11.742086</td>\n",
       "      <td>0.002330</td>\n",
       "      <td>...</td>\n",
       "      <td>82.414427</td>\n",
       "      <td>-6.334553</td>\n",
       "      <td>14.281607</td>\n",
       "      <td>21.417965</td>\n",
       "      <td>15.896391</td>\n",
       "      <td>0.020097</td>\n",
       "      <td>0.004944</td>\n",
       "      <td>0.015152</td>\n",
       "      <td>-0.000781</td>\n",
       "      <td>DOWN</td>\n",
       "    </tr>\n",
       "  </tbody>\n",
       "</table>\n",
       "<p>2755 rows × 399 columns</p>\n",
       "</div>"
      ],
      "text/plain": [
       "               Close  CCI_14_0.015     RSI_14  STOCHk_14_3_3  STOCHd_14_3_3  \\\n",
       "Date                                                                          \n",
       "2012-04-27  1.319087     98.478489  51.038945      81.712149      80.730070   \n",
       "2012-04-30  1.324152    127.422385  54.601184      83.716661      82.018227   \n",
       "2012-05-01  1.323977    115.498837  54.453574      82.281899      82.570236   \n",
       "2012-05-02  1.323977     50.088132  54.453574      87.002787      84.333783   \n",
       "2012-05-03  1.314752    -42.210902  46.738667      74.685202      81.323296   \n",
       "...              ...           ...        ...            ...            ...   \n",
       "2022-11-18  1.036173     85.819574  67.410973      86.033421      85.577773   \n",
       "2022-11-21  1.033090     54.709338  65.119551      84.825723      84.997108   \n",
       "2022-11-22  1.024569     35.254031  59.136547      78.138112      82.999085   \n",
       "2022-11-23  1.031109     54.579860  62.020620      75.695111      79.552982   \n",
       "2022-11-24  1.041623     88.972401  66.156665      78.618725      77.483982   \n",
       "\n",
       "             WILLR_14     ADX_14     DMP_14     DMN_14  MACD_12_14_9  ...  \\\n",
       "Date                                                                  ...   \n",
       "2012-04-27 -28.649670  19.276641  17.866089  21.199062      0.000062  ...   \n",
       "2012-04-30 -10.017628  18.507741  16.972117  20.138317      0.000193  ...   \n",
       "2012-05-01 -14.487005  17.553797  17.214907  19.094008      0.000282  ...   \n",
       "2012-05-02 -14.487005  17.581050  15.894581  22.841856      0.000341  ...   \n",
       "2012-05-03 -46.970384  17.932568  14.397787  22.755423      0.000189  ...   \n",
       "...               ...        ...        ...        ...           ...  ...   \n",
       "2022-11-18 -15.284101  25.304350  26.385322   9.847386      0.002756  ...   \n",
       "2022-11-21 -19.426472  25.407215  24.611691  14.225020      0.002673  ...   \n",
       "2022-11-22 -30.875092  25.502733  23.506028  13.585971      0.002382  ...   \n",
       "2022-11-23 -22.613104  26.221633  26.581242  12.633576      0.002255  ...   \n",
       "2022-11-24 -10.655630  27.282370  28.110196  11.742086      0.002330  ...   \n",
       "\n",
       "            STOCHd_49_3_3   WILLR_49     ADX_49     DMP_49     DMN_49  \\\n",
       "Date                                                                    \n",
       "2012-04-27      41.295740 -60.355674  49.622792  15.343039  36.281616   \n",
       "2012-04-30      43.336723 -50.003167  49.335275  15.165505  35.861803   \n",
       "2012-05-01      45.116149 -50.361327  49.037676  15.242374  35.436954   \n",
       "2012-05-02      47.377939 -50.361327  48.796498  14.973029  36.011659   \n",
       "2012-05-03      46.512672 -69.217312  48.582694  14.640618  35.698904   \n",
       "...                   ...        ...        ...        ...        ...   \n",
       "2022-11-18      88.536146 -12.161970  14.541093  20.520709  15.585239   \n",
       "2022-11-21      88.061795 -15.458166  14.424605  20.090752  16.829510   \n",
       "2022-11-22      86.471915 -24.568141  14.310495  19.815362  16.598823   \n",
       "2022-11-23      83.776138 -17.576438  14.270861  20.830194  16.244630   \n",
       "2022-11-24      82.414427  -6.334553  14.281607  21.417965  15.896391   \n",
       "\n",
       "            MACD_12_49_9  MACDh_12_49_9  MACDs_12_49_9    Return  Label  \n",
       "Date                                                                     \n",
       "2012-04-27      0.000703       0.000773      -0.000071  0.003840     UP  \n",
       "2012-04-30      0.001449       0.001216       0.000233 -0.000132   DOWN  \n",
       "2012-05-01      0.002027       0.001435       0.000592  0.000000   DOWN  \n",
       "2012-05-02      0.002484       0.001514       0.000970 -0.006968   DOWN  \n",
       "2012-05-03      0.001789       0.000655       0.001134  0.000658     UP  \n",
       "...                  ...            ...            ...       ...    ...  \n",
       "2022-11-18      0.017970       0.008588       0.009382 -0.002975   DOWN  \n",
       "2022-11-21      0.018830       0.007558       0.011272 -0.008248   DOWN  \n",
       "2022-11-22      0.018442       0.005737       0.012706  0.006383     UP  \n",
       "2022-11-23      0.018758       0.004842       0.013916  0.010198     UP  \n",
       "2022-11-24      0.020097       0.004944       0.015152 -0.000781   DOWN  \n",
       "\n",
       "[2755 rows x 399 columns]"
      ]
     },
     "execution_count": 76,
     "metadata": {},
     "output_type": "execute_result"
    }
   ],
   "source": [
    "instrument = \"EURUSD=X\"\n",
    "data = dataset(instrument, 4000)\n",
    "data"
   ]
  },
  {
   "cell_type": "code",
   "execution_count": 77,
   "metadata": {
    "id": "_QPVANgrZinq"
   },
   "outputs": [],
   "source": [
    "# OOS period\n",
    "oos = data.tail(250)\n",
    "\n",
    "#IS period, remove oos data\n",
    "in_sample = data.drop(oos.index)\n",
    "\n",
    "#1-year IS\n",
    "is_1A = in_sample.tail(250)\n",
    "\n",
    "#2-year IS\n",
    "is_2A = in_sample.tail(500)\n",
    "\n",
    "#3-year IS\n",
    "is_3A = in_sample.tail(750)\n",
    "\n",
    "#4-year IS\n",
    "is_4A = in_sample.tail(1000)\n",
    "\n",
    "#5-year IS\n",
    "is_5A = in_sample.tail(1250)\n",
    "\n",
    "#6-year IS\n",
    "is_6A = in_sample.tail(1500)\n",
    "\n",
    "#7-year IS\n",
    "is_7A = in_sample.tail(1750)\n",
    "\n",
    "#8-year IS\n",
    "is_8A = in_sample.tail(2000)\n",
    "\n",
    "#9-year IS\n",
    "is_9A = in_sample.tail(2250)\n",
    "\n",
    "#10-year IS\n",
    "is_10A = in_sample.tail(2500)\n",
    "\n",
    "#11-year IS\n",
    "is_11A = in_sample.tail(2750)\n",
    "\n",
    "#12-year IS\n",
    "is_12A = in_sample.tail(3000)"
   ]
  },
  {
   "cell_type": "markdown",
   "metadata": {
    "id": "wb5NtuwovueU"
   },
   "source": [
    "# 3. Function to generate the OOS accuracy Score for all different models"
   ]
  },
  {
   "cell_type": "code",
   "execution_count": 78,
   "metadata": {
    "id": "Yc6YhNUCvqeE"
   },
   "outputs": [],
   "source": [
    "def score(model, in_sample, out_of_sample):\n",
    "  if model == \"Decision Tree\":\n",
    "    model = DecisionTreeClassifier()\n",
    "  if model == \"Random Forest\":\n",
    "    model = RandomForestClassifier()\n",
    "  if model == \"SVM\":\n",
    "    model = svm.SVC()\n",
    "  if model == \"KNN\":\n",
    "    model = KNeighborsClassifier()\n",
    "  if model == \"XGBoost\":\n",
    "    model = XGBClassifier()\n",
    "  if model == \"AdaBoost\":\n",
    "    model = AdaBoostClassifier()\n",
    "  if model == \"Gaussian Naive Bayes\":\n",
    "    model = GaussianNB()\n",
    "  if model == \"Bernoulli Naive Bayes\":\n",
    "    model = BernoulliNB()\n",
    "    \n",
    "  le = LabelEncoder()\n",
    "\n",
    "  #IS independent variables (features)\n",
    "  X = in_sample.iloc[:,:-3]\n",
    "  #IS dependent variable (target label)\n",
    "  Y = in_sample[\"Label\"]\n",
    "  Y = le.fit_transform(Y)\n",
    "\n",
    "  #OOS independent variables (features)\n",
    "  X_oos = oos.iloc[:,:-3]\n",
    "  #OOS dependent variable (target label)\n",
    "  Y_oos = oos[\"Label\"]  \n",
    "  Y_oos = le.fit_transform(Y_oos)\n",
    "\n",
    "  # store OOS score and timing of the training\n",
    "  scores = []\n",
    "  times = []\n",
    "  for n in range(10):\n",
    "    # training\n",
    "    start = timeit.default_timer()\n",
    "    model.fit(X, Y)\n",
    "    end = timeit.default_timer() - start\n",
    "    #OOS ACCURACY\n",
    "    score = accuracy_score(Y_oos, model.predict(X_oos))\n",
    "    scores.append(score)\n",
    "    times.append(end)\n",
    "\n",
    "  #RETORNAMOS RESULTADO PROMEDIO TRAS 10 ITERACIONES\n",
    "  return [round(np.mean(scores),2), round(np.mean(times),2)]"
   ]
  },
  {
   "cell_type": "markdown",
   "metadata": {
    "id": "It3kso6iFw2-"
   },
   "source": [
    "# 4. Function to construct a results table for each model"
   ]
  },
  {
   "cell_type": "code",
   "execution_count": 79,
   "metadata": {
    "id": "5_ujr3kwz-Q1"
   },
   "outputs": [],
   "source": [
    "models = [\"Decision Tree\", \"Random Forest\", \"SVM\", \"KNN\", \"XGBoost\", \"AdaBoost\", \"Gaussian Naive Bayes\", \"Bernouilli Naive Bayes\"]\n",
    "in_samples = [is_1A, is_2A, is_3A, is_4A, is_5A, is_6A, is_7A, is_8A, is_9A, is_10A, is_11A, is_12A]\n",
    "\n",
    "def tabla_scores(model, in_samples, oos):\n",
    "  years_is = []\n",
    "  accuracy = []\n",
    "  time = [] \n",
    "  for years, period in enumerate(in_samples):\n",
    "    years_is.append(years+1)\n",
    "    scores = score(model, period, oos)\n",
    "    accuracy.append(scores[0])\n",
    "    time.append(scores[1])\n",
    "\n",
    "  df_scores = pd.DataFrame({\"years in sample\": years_is, \"accuracy oos\": accuracy, \"training time\": time})\n",
    "  df_scores =df_scores.set_index(\"years in sample\")\n",
    "\n",
    "  return df_scores\n"
   ]
  },
  {
   "cell_type": "markdown",
   "metadata": {
    "id": "ihhCmvX0F2Rc"
   },
   "source": [
    "# 5. Display results for each model"
   ]
  },
  {
   "cell_type": "code",
   "execution_count": 80,
   "metadata": {
    "colab": {
     "base_uri": "https://localhost:8080/",
     "height": 457
    },
    "id": "dVImUQdTBFGm",
    "outputId": "048b1df5-1a45-44d2-b6f1-a09b650bf616",
    "scrolled": true
   },
   "outputs": [
    {
     "ename": "NameError",
     "evalue": "name 'le' is not defined",
     "output_type": "error",
     "traceback": [
      "\u001b[1;31m---------------------------------------------------------------------------\u001b[0m",
      "\u001b[1;31mNameError\u001b[0m                                 Traceback (most recent call last)",
      "Input \u001b[1;32mIn [80]\u001b[0m, in \u001b[0;36m<cell line: 1>\u001b[1;34m()\u001b[0m\n\u001b[1;32m----> 1\u001b[0m dt \u001b[38;5;241m=\u001b[39m \u001b[43mtabla_scores\u001b[49m\u001b[43m(\u001b[49m\u001b[38;5;124;43m\"\u001b[39;49m\u001b[38;5;124;43mDecision Tree\u001b[39;49m\u001b[38;5;124;43m\"\u001b[39;49m\u001b[43m,\u001b[49m\u001b[43m \u001b[49m\u001b[43min_samples\u001b[49m\u001b[43m,\u001b[49m\u001b[43m \u001b[49m\u001b[43moos\u001b[49m\u001b[43m)\u001b[49m\n\u001b[0;32m      2\u001b[0m dt\n",
      "Input \u001b[1;32mIn [79]\u001b[0m, in \u001b[0;36mtabla_scores\u001b[1;34m(model, in_samples, oos)\u001b[0m\n\u001b[0;32m      8\u001b[0m \u001b[38;5;28;01mfor\u001b[39;00m years, period \u001b[38;5;129;01min\u001b[39;00m \u001b[38;5;28menumerate\u001b[39m(in_samples):\n\u001b[0;32m      9\u001b[0m   years_is\u001b[38;5;241m.\u001b[39mappend(years\u001b[38;5;241m+\u001b[39m\u001b[38;5;241m1\u001b[39m)\n\u001b[1;32m---> 10\u001b[0m   scores \u001b[38;5;241m=\u001b[39m \u001b[43mscore\u001b[49m\u001b[43m(\u001b[49m\u001b[43mmodel\u001b[49m\u001b[43m,\u001b[49m\u001b[43m \u001b[49m\u001b[43mperiod\u001b[49m\u001b[43m,\u001b[49m\u001b[43m \u001b[49m\u001b[43moos\u001b[49m\u001b[43m)\u001b[49m\n\u001b[0;32m     11\u001b[0m   accuracy\u001b[38;5;241m.\u001b[39mappend(scores[\u001b[38;5;241m0\u001b[39m])\n\u001b[0;32m     12\u001b[0m   time\u001b[38;5;241m.\u001b[39mappend(scores[\u001b[38;5;241m1\u001b[39m])\n",
      "Input \u001b[1;32mIn [78]\u001b[0m, in \u001b[0;36mscore\u001b[1;34m(model, in_sample, out_of_sample)\u001b[0m\n\u001b[0;32m     21\u001b[0m \u001b[38;5;66;03m#IS dependent variable (target label)\u001b[39;00m\n\u001b[0;32m     22\u001b[0m Y \u001b[38;5;241m=\u001b[39m in_sample[\u001b[38;5;124m\"\u001b[39m\u001b[38;5;124mLabel\u001b[39m\u001b[38;5;124m\"\u001b[39m]\n\u001b[1;32m---> 23\u001b[0m Y \u001b[38;5;241m=\u001b[39m \u001b[43mle\u001b[49m\u001b[38;5;241m.\u001b[39mfit_transform(Y)\n\u001b[0;32m     25\u001b[0m \u001b[38;5;66;03m#OOS independent variables (features)\u001b[39;00m\n\u001b[0;32m     26\u001b[0m X_oos \u001b[38;5;241m=\u001b[39m oos\u001b[38;5;241m.\u001b[39miloc[:,:\u001b[38;5;241m-\u001b[39m\u001b[38;5;241m3\u001b[39m]\n",
      "\u001b[1;31mNameError\u001b[0m: name 'le' is not defined"
     ]
    }
   ],
   "source": [
    "dt = tabla_scores(\"Decision Tree\", in_samples, oos)\n",
    "dt"
   ]
  },
  {
   "cell_type": "code",
   "execution_count": null,
   "metadata": {
    "colab": {
     "base_uri": "https://localhost:8080/",
     "height": 457
    },
    "id": "zYmttU-JX9N_",
    "outputId": "8c4e2b7f-5321-434b-9634-1c2dca272aef"
   },
   "outputs": [],
   "source": [
    "rf = tabla_scores(\"Random Forest\", in_samples, oos)\n",
    "rf"
   ]
  },
  {
   "cell_type": "code",
   "execution_count": null,
   "metadata": {
    "colab": {
     "base_uri": "https://localhost:8080/",
     "height": 457
    },
    "id": "vJ40xepKZEPl",
    "outputId": "43992a3c-7aba-4d44-f4a2-dd3d8dc4637a"
   },
   "outputs": [],
   "source": [
    "svm = tabla_scores(\"SVM\", in_samples, oos)\n",
    "svm"
   ]
  },
  {
   "cell_type": "code",
   "execution_count": null,
   "metadata": {
    "colab": {
     "base_uri": "https://localhost:8080/",
     "height": 457
    },
    "id": "viJOMLKbZOwm",
    "outputId": "a51c8b67-2556-49a4-a87f-76aeb5eaa88a"
   },
   "outputs": [],
   "source": [
    "knn = tabla_scores(\"KNN\", in_samples, oos)\n",
    "knn"
   ]
  },
  {
   "cell_type": "code",
   "execution_count": null,
   "metadata": {
    "colab": {
     "base_uri": "https://localhost:8080/",
     "height": 457
    },
    "id": "wfAeyzZBZp9c",
    "outputId": "149c9356-3cf3-46eb-bd3a-9f2935c6892e"
   },
   "outputs": [],
   "source": [
    "xgb = tabla_scores(\"XGBoost\", in_samples, oos)\n",
    "xgb"
   ]
  },
  {
   "cell_type": "code",
   "execution_count": null,
   "metadata": {
    "colab": {
     "base_uri": "https://localhost:8080/",
     "height": 457
    },
    "id": "4YD4KH7AZtnk",
    "outputId": "208196d2-9910-4c06-803f-7ce768069098"
   },
   "outputs": [],
   "source": [
    "ab = tabla_scores(\"AdaBoost\", in_samples, oos)\n",
    "ab"
   ]
  },
  {
   "cell_type": "code",
   "execution_count": null,
   "metadata": {
    "colab": {
     "base_uri": "https://localhost:8080/",
     "height": 457
    },
    "id": "9v2UFUJJZy1Y",
    "outputId": "8823bd91-11d0-4378-f74e-830885f0fac7"
   },
   "outputs": [],
   "source": [
    "gnb = tabla_scores(\"Gaussian Naive Bayes\", in_samples, oos)\n",
    "gnb"
   ]
  },
  {
   "cell_type": "code",
   "execution_count": null,
   "metadata": {
    "colab": {
     "base_uri": "https://localhost:8080/",
     "height": 457
    },
    "id": "EW_e_c5fZ288",
    "outputId": "60d29b1f-d34a-4c0b-9232-771e2f3743a5"
   },
   "outputs": [],
   "source": [
    "bnb = tabla_scores(\"Bernoulli Naive Bayes\", in_samples, oos)\n",
    "bnb"
   ]
  },
  {
   "cell_type": "markdown",
   "metadata": {
    "id": "xXuGqtoMeyFp"
   },
   "source": [
    "# 6. Display results altogether"
   ]
  },
  {
   "cell_type": "code",
   "execution_count": null,
   "metadata": {
    "colab": {
     "base_uri": "https://localhost:8080/",
     "height": 457
    },
    "id": "i6dg9J4He3to",
    "outputId": "66187a30-268b-43b5-cdf7-6fe2011b9434"
   },
   "outputs": [],
   "source": [
    "results = pd.DataFrame()\n",
    "results.index = dt.index\n",
    "results[\"Decision Tree\"] = dt[\"accuracy oos\"]\n",
    "results[\"Random Forest\"] = rf[\"accuracy oos\"]\n",
    "results[\"SVM\"] = svm[\"accuracy oos\"]\n",
    "results[\"KNN\"] = knn[\"accuracy oos\"]\n",
    "results[\"XGBoost\"] = xgb[\"accuracy oos\"]\n",
    "results[\"AdaBoost\"] = ab[\"accuracy oos\"]\n",
    "results[\"Gaussian Naive Bayes\"] = gnb[\"accuracy oos\"]\n",
    "results[\"Bernoulli Naive Bayes\"] = bnb[\"accuracy oos\"]\n",
    "\n",
    "results"
   ]
  },
  {
   "cell_type": "code",
   "execution_count": null,
   "metadata": {
    "colab": {
     "base_uri": "https://localhost:8080/",
     "height": 320
    },
    "id": "COlYRyoaslGT",
    "outputId": "13f069d7-9974-4adf-dd4e-32f03c79b4c1"
   },
   "outputs": [],
   "source": [
    "plt.figure(figsize=(10, 5))\n",
    "plt.plot(resultados[\"Decision Tree\"], label=\"Decision Tree\")\n",
    "plt.plot(resultados[\"Random Forest\"], label=\"Random Forest\")\n",
    "plt.plot(resultados[\"SVM\"], label=\"SVM\")\n",
    "plt.plot(resultados[\"KNN\"], label=\"KNN\")\n",
    "plt.plot(resultados[\"XGBoost\"], label=\"XGBoost\")\n",
    "plt.plot(resultados[\"AdaBoost\"], label=\"AdaBoost\")\n",
    "plt.plot(resultados[\"Gaussian Naive Bayes\"], label=\"Gausian Naive Bayes\")\n",
    "plt.plot(resultados[\"Bernoulli Naive Bayes\"], label=\"Bernoulli Naive Bayes\")\n",
    "plt.legend(bbox_to_anchor = (1, 0.5))\n",
    "plt.ylabel('% accuracy')\n",
    "plt.xlabel('years of in-saple training')\n",
    "plt.title(f'Out-of-Sample accuracy score, {instrument}')\n",
    "plt.show()"
   ]
  }
 ],
 "metadata": {
  "colab": {
   "provenance": []
  },
  "kernelspec": {
   "display_name": "Python 3 (ipykernel)",
   "language": "python",
   "name": "python3"
  },
  "language_info": {
   "codemirror_mode": {
    "name": "ipython",
    "version": 3
   },
   "file_extension": ".py",
   "mimetype": "text/x-python",
   "name": "python",
   "nbconvert_exporter": "python",
   "pygments_lexer": "ipython3",
   "version": "3.9.12"
  }
 },
 "nbformat": 4,
 "nbformat_minor": 1
}
